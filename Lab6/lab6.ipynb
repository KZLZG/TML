{
 "cells": [
  {
   "attachments": {},
   "cell_type": "markdown",
   "metadata": {},
   "source": [
    "# Методы обучения без учителя."
   ]
  },
  {
   "cell_type": "code",
   "execution_count": 208,
   "metadata": {},
   "outputs": [],
   "source": [
    "import numpy as np\n",
    "import pandas as pd\n",
    "import seaborn as sns\n",
    "import matplotlib.pyplot as plt\n",
    "import seaborn as sns\n",
    "from sklearn.datasets import load_iris\n",
    "from sklearn.decomposition import PCA\n",
    "from sklearn.manifold import TSNE"
   ]
  },
  {
   "cell_type": "code",
   "execution_count": 209,
   "metadata": {},
   "outputs": [
    {
     "data": {
      "text/html": [
       "<div>\n",
       "<style scoped>\n",
       "    .dataframe tbody tr th:only-of-type {\n",
       "        vertical-align: middle;\n",
       "    }\n",
       "\n",
       "    .dataframe tbody tr th {\n",
       "        vertical-align: top;\n",
       "    }\n",
       "\n",
       "    .dataframe thead th {\n",
       "        text-align: right;\n",
       "    }\n",
       "</style>\n",
       "<table border=\"1\" class=\"dataframe\">\n",
       "  <thead>\n",
       "    <tr style=\"text-align: right;\">\n",
       "      <th></th>\n",
       "      <th>sepal length (cm)</th>\n",
       "      <th>sepal width (cm)</th>\n",
       "      <th>petal length (cm)</th>\n",
       "      <th>petal width (cm)</th>\n",
       "    </tr>\n",
       "  </thead>\n",
       "  <tbody>\n",
       "    <tr>\n",
       "      <th>0</th>\n",
       "      <td>5.1</td>\n",
       "      <td>3.5</td>\n",
       "      <td>1.4</td>\n",
       "      <td>0.2</td>\n",
       "    </tr>\n",
       "    <tr>\n",
       "      <th>1</th>\n",
       "      <td>4.9</td>\n",
       "      <td>3.0</td>\n",
       "      <td>1.4</td>\n",
       "      <td>0.2</td>\n",
       "    </tr>\n",
       "    <tr>\n",
       "      <th>2</th>\n",
       "      <td>4.7</td>\n",
       "      <td>3.2</td>\n",
       "      <td>1.3</td>\n",
       "      <td>0.2</td>\n",
       "    </tr>\n",
       "    <tr>\n",
       "      <th>3</th>\n",
       "      <td>4.6</td>\n",
       "      <td>3.1</td>\n",
       "      <td>1.5</td>\n",
       "      <td>0.2</td>\n",
       "    </tr>\n",
       "    <tr>\n",
       "      <th>4</th>\n",
       "      <td>5.0</td>\n",
       "      <td>3.6</td>\n",
       "      <td>1.4</td>\n",
       "      <td>0.2</td>\n",
       "    </tr>\n",
       "  </tbody>\n",
       "</table>\n",
       "</div>"
      ],
      "text/plain": [
       "   sepal length (cm)  sepal width (cm)  petal length (cm)  petal width (cm)\n",
       "0                5.1               3.5                1.4               0.2\n",
       "1                4.9               3.0                1.4               0.2\n",
       "2                4.7               3.2                1.3               0.2\n",
       "3                4.6               3.1                1.5               0.2\n",
       "4                5.0               3.6                1.4               0.2"
      ]
     },
     "execution_count": 209,
     "metadata": {},
     "output_type": "execute_result"
    }
   ],
   "source": [
    "iris = load_iris()\n",
    "D1 = pd.DataFrame(data=iris.data, columns=iris.feature_names)\n",
    "#D1['target'] = pd.Series(iris.target)\n",
    "D1.head()"
   ]
  },
  {
   "cell_type": "code",
   "execution_count": 210,
   "metadata": {},
   "outputs": [
    {
     "data": {
      "text/plain": [
       "0      0\n",
       "1      0\n",
       "2      0\n",
       "3      0\n",
       "4      0\n",
       "      ..\n",
       "145    2\n",
       "146    2\n",
       "147    2\n",
       "148    2\n",
       "149    2\n",
       "Name: target, Length: 150, dtype: int32"
      ]
     },
     "execution_count": 210,
     "metadata": {},
     "output_type": "execute_result"
    }
   ],
   "source": [
    "D1['target'] = pd.Series(iris.target)\n",
    "D1['target']"
   ]
  },
  {
   "cell_type": "code",
   "execution_count": 211,
   "metadata": {},
   "outputs": [
    {
     "name": "stdout",
     "output_type": "stream",
     "text": [
      "<class 'pandas.core.frame.DataFrame'>\n",
      "RangeIndex: 150 entries, 0 to 149\n",
      "Data columns (total 5 columns):\n",
      " #   Column             Non-Null Count  Dtype  \n",
      "---  ------             --------------  -----  \n",
      " 0   sepal length (cm)  150 non-null    float64\n",
      " 1   sepal width (cm)   150 non-null    float64\n",
      " 2   petal length (cm)  150 non-null    float64\n",
      " 3   petal width (cm)   150 non-null    float64\n",
      " 4   target             150 non-null    int32  \n",
      "dtypes: float64(4), int32(1)\n",
      "memory usage: 5.4 KB\n"
     ]
    }
   ],
   "source": [
    "D1.info()"
   ]
  },
  {
   "cell_type": "code",
   "execution_count": 212,
   "metadata": {},
   "outputs": [
    {
     "data": {
      "text/plain": [
       "array([[-2.86541481e+00,  2.96294592e-01],\n",
       "       [-2.89204667e+00, -1.83785089e-01],\n",
       "       [-3.05498018e+00, -1.74826556e-01],\n",
       "       [-2.92022951e+00, -3.31581792e-01],\n",
       "       [-2.90685193e+00,  2.95916920e-01],\n",
       "       [-2.48985229e+00,  7.33821200e-01],\n",
       "       [-2.99073479e+00, -1.23337756e-01],\n",
       "       [-2.81072341e+00,  1.49253233e-01],\n",
       "       [-3.05102452e+00, -5.96522880e-01],\n",
       "       [-2.85367989e+00, -1.18129504e-01],\n",
       "       [-2.70121731e+00,  6.30088258e-01],\n",
       "       [-2.79746912e+00,  1.83420106e-03],\n",
       "       [-2.95910703e+00, -2.45743109e-01],\n",
       "       [-3.36629732e+00, -5.60864364e-01],\n",
       "       [-2.83188903e+00,  1.14006491e+00],\n",
       "       [-2.58993648e+00,  1.30218121e+00],\n",
       "       [-2.81008938e+00,  7.72676709e-01],\n",
       "       [-2.83175695e+00,  2.89400035e-01],\n",
       "       [-2.41526804e+00,  8.78798583e-01],\n",
       "       [-2.77580155e+00,  4.85110874e-01],\n",
       "       [-2.51699488e+00,  4.05235787e-01],\n",
       "       [-2.73410906e+00,  4.09741412e-01],\n",
       "       [-3.36069900e+00,  5.93621201e-02],\n",
       "       [-2.50819415e+00,  1.09519480e-01],\n",
       "       [-2.55729130e+00, -2.73074303e-02],\n",
       "       [-2.69852563e+00, -1.34360266e-01],\n",
       "       [-2.66334841e+00,  1.25750242e-01],\n",
       "       [-2.75195304e+00,  3.55433292e-01],\n",
       "       [-2.82397769e+00,  2.96672264e-01],\n",
       "       [-2.81480236e+00, -2.03968187e-01],\n",
       "       [-2.77336524e+00, -2.03590515e-01],\n",
       "       [-2.60979770e+00,  4.10874428e-01],\n",
       "       [-2.83381866e+00,  7.73177282e-01],\n",
       "       [-2.78804721e+00,  1.05102924e+00],\n",
       "       [-2.82002202e+00, -1.25024061e-01],\n",
       "       [-3.03483197e+00,  4.14450531e-02],\n",
       "       [-2.81186411e+00,  5.81418778e-01],\n",
       "       [-2.97391229e+00,  2.33958900e-01],\n",
       "       [-3.13911842e+00, -5.18334098e-01],\n",
       "       [-2.77732091e+00,  2.18105810e-01],\n",
       "       [-2.94521872e+00,  2.30261335e-01],\n",
       "       [-3.01581568e+00, -9.35700415e-01],\n",
       "       [-3.15518767e+00, -3.81384287e-01],\n",
       "       [-2.60406731e+00,  1.80436033e-01],\n",
       "       [-2.42190660e+00,  4.39360809e-01],\n",
       "       [-2.89179130e+00, -2.59532223e-01],\n",
       "       [-2.72940014e+00,  4.82291554e-01],\n",
       "       [-3.00832340e+00, -2.53393010e-01],\n",
       "       [-2.73461980e+00,  5.61235680e-01],\n",
       "       [-2.88274805e+00,  9.04922043e-02],\n",
       "       [ 1.19659125e+00,  7.88745875e-01],\n",
       "       [ 8.69715600e-01,  3.88163609e-01],\n",
       "       [ 1.36499979e+00,  6.25096081e-01],\n",
       "       [ 1.73792690e-01, -7.85425235e-01],\n",
       "       [ 1.01531587e+00,  1.73402688e-01],\n",
       "       [ 6.00720918e-01, -3.53914939e-01],\n",
       "       [ 1.02205489e+00,  3.61463626e-01],\n",
       "       [-6.96045401e-01, -1.04138498e+00],\n",
       "       [ 9.73368014e-01,  3.24519284e-01],\n",
       "       [-4.95470589e-03, -7.15264025e-01],\n",
       "       [-4.70385858e-01, -1.26585978e+00],\n",
       "       [ 4.78594559e-01, -6.39074565e-02],\n",
       "       [ 2.47866201e-01, -4.88953584e-01],\n",
       "       [ 9.20072678e-01, -3.63520361e-02],\n",
       "       [-1.61249662e-01, -2.66867717e-01],\n",
       "       [ 8.64240572e-01,  5.42854869e-01],\n",
       "       [ 6.18564897e-01, -2.99606819e-01],\n",
       "       [ 2.20947357e-01, -2.93998088e-01],\n",
       "       [ 8.83256867e-01, -4.34290599e-01],\n",
       "       [ 4.37509356e-02, -5.56119856e-01],\n",
       "       [ 1.04385454e+00, -5.92457893e-03],\n",
       "       [ 3.34034528e-01, -2.99352449e-02],\n",
       "       [ 1.21279258e+00, -1.98868814e-01],\n",
       "       [ 8.60791579e-01, -9.10378278e-02],\n",
       "       [ 6.66385205e-01,  2.15955761e-01],\n",
       "       [ 8.38872704e-01,  4.05527387e-01],\n",
       "       [ 1.24198404e+00,  3.67427222e-01],\n",
       "       [ 1.45360442e+00,  3.95413031e-01],\n",
       "       [ 7.60209499e-01, -9.26714160e-02],\n",
       "       [-2.84776151e-01, -3.73042308e-01],\n",
       "       [-6.16762064e-02, -6.83733462e-01],\n",
       "       [-1.75393342e-01, -6.67125028e-01],\n",
       "       [ 1.28144535e-01, -2.88359448e-01],\n",
       "       [ 1.29029225e+00, -2.94799046e-01],\n",
       "       [ 5.51759908e-01, -4.37311974e-01],\n",
       "       [ 7.53694234e-01,  2.42808554e-01],\n",
       "       [ 1.13807625e+00,  5.06818681e-01],\n",
       "       [ 7.61249738e-01, -2.73460126e-01],\n",
       "       [ 2.31012079e-01, -2.46962197e-01],\n",
       "       [ 1.57723439e-01, -6.48475424e-01],\n",
       "       [ 4.36268045e-01, -6.11961470e-01],\n",
       "       [ 8.31978779e-01,  4.18367464e-02],\n",
       "       [ 2.16238434e-01, -3.66548230e-01],\n",
       "       [-6.54608281e-01, -1.04100731e+00],\n",
       "       [ 3.35175229e-01, -4.62100791e-01],\n",
       "       [ 3.10815984e-01, -1.80928940e-01],\n",
       "       [ 3.52508472e-01, -2.56298403e-01],\n",
       "       [ 5.99580217e-01,  7.82506064e-02],\n",
       "       [-8.43794996e-01, -8.12957848e-01],\n",
       "       [ 2.80483824e-01, -3.15059431e-01],\n",
       "       [ 2.72315063e+00, -3.38981292e-02],\n",
       "       [ 1.68186528e+00, -6.60218212e-01],\n",
       "       [ 2.79978374e+00,  3.48789877e-01],\n",
       "       [ 2.19944700e+00, -2.20680344e-01],\n",
       "       [ 2.55296736e+00, -6.15062662e-02],\n",
       "       [ 3.52721112e+00,  6.25055623e-01],\n",
       "       [ 8.49640714e-01, -1.34476884e+00],\n",
       "       [ 3.09388686e+00,  3.99848288e-01],\n",
       "       [ 2.52531403e+00, -2.38597411e-01],\n",
       "       [ 3.07972847e+00,  7.81485905e-01],\n",
       "       [ 1.90916747e+00,  1.57229798e-01],\n",
       "       [ 2.04239879e+00, -2.66530503e-01],\n",
       "       [ 2.37933916e+00,  1.81087654e-01],\n",
       "       [ 1.61813062e+00, -8.63201280e-01],\n",
       "       [ 1.84211996e+00, -6.26216091e-01],\n",
       "       [ 2.13685711e+00,  4.82657961e-02],\n",
       "       [ 2.17815809e+00, -4.78640736e-03],\n",
       "       [ 3.61005375e+00,  1.22509901e+00],\n",
       "       [ 3.90024566e+00,  3.77077834e-01],\n",
       "       [ 1.57415267e+00, -8.27595480e-01],\n",
       "       [ 2.62410667e+00,  3.53673174e-01],\n",
       "       [ 1.48056498e+00, -7.16915264e-01],\n",
       "       [ 3.62308428e+00,  5.54139069e-01],\n",
       "       [ 1.65510134e+00, -2.89633015e-01],\n",
       "       [ 2.48195134e+00,  2.98232038e-01],\n",
       "       [ 2.79620267e+00,  5.65562058e-01],\n",
       "       [ 1.53360494e+00, -2.80296810e-01],\n",
       "       [ 1.56419247e+00, -2.21913454e-01],\n",
       "       [ 2.34185771e+00, -2.40986343e-01],\n",
       "       [ 2.58483765e+00,  4.61829115e-01],\n",
       "       [ 3.00886329e+00,  4.12759157e-01],\n",
       "       [ 3.36936519e+00,  1.40573491e+00],\n",
       "       [ 2.37551557e+00, -2.47880900e-01],\n",
       "       [ 1.70621167e+00, -2.19902194e-01],\n",
       "       [ 2.02211444e+00, -5.36231987e-01],\n",
       "       [ 3.22763297e+00,  7.28688472e-01],\n",
       "       [ 2.36122105e+00,  8.03268415e-02],\n",
       "       [ 2.13672097e+00, -5.16407917e-03],\n",
       "       [ 1.45073071e+00, -2.81052154e-01],\n",
       "       [ 2.32464775e+00,  3.28129013e-01],\n",
       "       [ 2.51893490e+00,  1.50312434e-01],\n",
       "       [ 2.15178566e+00,  3.43481531e-01],\n",
       "       [ 1.68186528e+00, -6.60218212e-01],\n",
       "       [ 2.75082273e+00,  2.65392842e-01],\n",
       "       [ 2.61658278e+00,  2.70653811e-01],\n",
       "       [ 2.17307457e+00,  1.27587594e-01],\n",
       "       [ 1.78488772e+00, -4.43191260e-01],\n",
       "       [ 2.00529599e+00,  1.05661102e-02],\n",
       "       [ 2.13404214e+00,  3.77965754e-02],\n",
       "       [ 1.65750603e+00, -3.79046362e-01]])"
      ]
     },
     "execution_count": 212,
     "metadata": {},
     "output_type": "execute_result"
    }
   ],
   "source": [
    "pca = PCA(n_components=2)\n",
    "pca.fit(D1)\n",
    "D2 = pca.transform(D1)\n",
    "#D2 = pd.DataFrame(data = df_pca)\n",
    "D2"
   ]
  },
  {
   "cell_type": "code",
   "execution_count": 213,
   "metadata": {},
   "outputs": [
    {
     "data": {
      "text/plain": [
       "array([[ 2.41735382e+01,  1.99568272e+01],\n",
       "       [ 3.60507355e+01, -3.00386691e+00],\n",
       "       [ 4.58275871e+01,  5.28432560e+00],\n",
       "       [ 4.35983620e+01,  4.94822645e+00],\n",
       "       [ 2.13924198e+01,  1.81471291e+01],\n",
       "       [ 2.53482723e+01,  3.68284950e+01],\n",
       "       [ 4.57036362e+01,  7.54138279e+00],\n",
       "       [ 2.90785503e+01,  1.72278557e+01],\n",
       "       [ 5.32561226e+01,  2.11012149e+00],\n",
       "       [ 3.70686493e+01, -7.32316896e-02],\n",
       "       [ 2.52872486e+01,  3.23195992e+01],\n",
       "       [ 3.77366295e+01,  6.68658733e+00],\n",
       "       [ 3.51833992e+01, -2.26610637e+00],\n",
       "       [ 5.16931915e+01,  4.30616289e-01],\n",
       "       [ 2.01014233e+01,  4.33626175e+01],\n",
       "       [ 1.77900314e+01,  4.33070297e+01],\n",
       "       [ 2.34060497e+01,  3.25742722e+01],\n",
       "       [ 2.34565964e+01,  2.03219204e+01],\n",
       "       [ 2.61433029e+01,  3.67898140e+01],\n",
       "       [ 1.87211895e+01,  3.62742233e+01],\n",
       "       [ 2.85884399e+01,  2.47171421e+01],\n",
       "       [ 1.81086121e+01,  3.54853134e+01],\n",
       "       [ 4.62806778e+01,  9.02837849e+00],\n",
       "       [ 2.37111549e+01,  7.08885193e+00],\n",
       "       [ 3.66236076e+01,  7.48865652e+00],\n",
       "       [ 3.92872849e+01, -8.36542904e-01],\n",
       "       [ 2.34823513e+01,  7.79493713e+00],\n",
       "       [ 2.74064808e+01,  2.15105400e+01],\n",
       "       [ 2.70607758e+01,  2.01862106e+01],\n",
       "       [ 3.93664207e+01,  4.19586945e+00],\n",
       "       [ 3.89461784e+01,  2.96313310e+00],\n",
       "       [ 2.83003311e+01,  2.55015469e+01],\n",
       "       [ 1.84508915e+01,  4.08346825e+01],\n",
       "       [ 1.85361290e+01,  4.23609772e+01],\n",
       "       [ 3.77957726e+01, -2.21839100e-01],\n",
       "       [ 3.11999493e+01,  1.49789715e+01],\n",
       "       [ 2.64753647e+01,  3.02669449e+01],\n",
       "       [ 2.08101883e+01,  1.74332294e+01],\n",
       "       [ 5.22855034e+01,  1.95491791e+00],\n",
       "       [ 2.85583725e+01,  1.80723286e+01],\n",
       "       [ 2.20018959e+01,  2.07114544e+01],\n",
       "       [ 5.48931580e+01,  2.30389452e+00],\n",
       "       [ 5.07831802e+01,  2.55332351e+00],\n",
       "       [ 2.22111244e+01,  7.59582567e+00],\n",
       "       [ 2.16434669e+01,  3.73943901e+01],\n",
       "       [ 3.62916565e+01, -4.10758305e+00],\n",
       "       [ 1.94867611e+01,  3.70942726e+01],\n",
       "       [ 4.49033737e+01,  5.46343708e+00],\n",
       "       [ 2.53688641e+01,  3.29542236e+01],\n",
       "       [ 3.01103611e+01,  1.61297779e+01],\n",
       "       [-2.36501999e+01,  2.71019154e+01],\n",
       "       [-3.64130669e+01,  2.36972561e+01],\n",
       "       [-2.35631123e+01,  2.60313263e+01],\n",
       "       [-3.21654129e+01, -1.83598080e+01],\n",
       "       [-2.93886681e+01,  2.32901821e+01],\n",
       "       [-5.71845741e+01, -4.89974403e+00],\n",
       "       [-3.72425117e+01,  2.40055676e+01],\n",
       "       [-4.00319290e+01, -3.52085457e+01],\n",
       "       [-2.86525440e+01,  2.26891518e+01],\n",
       "       [-2.97077694e+01, -1.80405521e+01],\n",
       "       [-3.99964600e+01, -3.33890991e+01],\n",
       "       [-4.99472275e+01, -5.89929163e-01],\n",
       "       [-3.45445900e+01, -8.69485664e+00],\n",
       "       [-4.42750282e+01,  1.46689939e+01],\n",
       "       [-3.80475578e+01, -1.17484713e+01],\n",
       "       [-3.05166817e+01,  2.01944828e+01],\n",
       "       [-5.87353020e+01, -5.17657948e+00],\n",
       "       [-3.73352013e+01, -7.48255587e+00],\n",
       "       [-5.20101585e+01,  2.14389839e+01],\n",
       "       [-3.39356804e+01, -1.61185055e+01],\n",
       "       [-3.99092522e+01,  2.48492699e+01],\n",
       "       [-3.34599190e+01,  1.17672501e+01],\n",
       "       [-4.82497330e+01,  1.90930252e+01],\n",
       "       [-4.54397507e+01,  1.49848490e+01],\n",
       "       [-3.29141769e+01,  1.44742603e+01],\n",
       "       [-3.01911716e+01,  2.08177681e+01],\n",
       "       [-2.66849651e+01,  2.34392395e+01],\n",
       "       [-2.23246346e+01,  2.48280239e+01],\n",
       "       [-4.29009323e+01,  1.33372612e+01],\n",
       "       [-3.71966324e+01, -1.49398909e+01],\n",
       "       [-3.49441986e+01, -1.63634605e+01],\n",
       "       [-3.59673920e+01, -1.59920435e+01],\n",
       "       [-3.72292938e+01, -9.49712276e+00],\n",
       "       [-4.76956062e+01,  1.85949593e+01],\n",
       "       [-5.94922485e+01, -5.32059288e+00],\n",
       "       [-3.87196960e+01,  2.45402584e+01],\n",
       "       [-2.44750576e+01,  2.53712482e+01],\n",
       "       [-5.25104713e+01,  2.17632809e+01],\n",
       "       [-4.87757378e+01, -4.30649137e+00],\n",
       "       [-3.13642769e+01, -1.80695076e+01],\n",
       "       [-5.45463066e+01, -4.53989077e+00],\n",
       "       [-4.34256973e+01,  1.43171997e+01],\n",
       "       [-3.66385193e+01, -8.83034420e+00],\n",
       "       [-4.05323601e+01, -3.45754089e+01],\n",
       "       [-5.27028160e+01, -4.09098577e+00],\n",
       "       [-4.88968964e+01, -3.12901258e+00],\n",
       "       [-5.01508446e+01, -2.97252679e+00],\n",
       "       [-3.31941910e+01,  1.36526365e+01],\n",
       "       [-4.10939903e+01, -3.60649261e+01],\n",
       "       [-5.13322220e+01, -3.63367367e+00],\n",
       "       [ 1.37354622e+01, -3.09753094e+01],\n",
       "       [-3.28141451e+00,  5.76966429e+00],\n",
       "       [ 1.06134682e+01, -5.05478249e+01],\n",
       "       [ 2.87695956e+00, -1.59172506e+01],\n",
       "       [ 4.77850467e-01, -2.50631161e+01],\n",
       "       [ 6.91742039e+00, -5.99229012e+01],\n",
       "       [-5.45513248e+00,  8.56668949e+00],\n",
       "       [ 9.69641304e+00, -5.54660187e+01],\n",
       "       [ 5.71876504e-02, -2.12223034e+01],\n",
       "       [ 8.50370407e+00, -4.45411606e+01],\n",
       "       [ 8.90701389e+00, -2.28680897e+01],\n",
       "       [ 7.06715918e+00, -2.11068115e+01],\n",
       "       [ 3.73825121e+00, -3.65902786e+01],\n",
       "       [-4.91655779e+00,  6.01178598e+00],\n",
       "       [-2.20410109e+00,  8.33802795e+00],\n",
       "       [ 1.21952705e+01, -2.73650894e+01],\n",
       "       [ 4.05792618e+00, -1.69137115e+01],\n",
       "       [ 9.76246595e-01, -5.71025352e+01],\n",
       "       [ 6.76238251e+00, -6.19101715e+01],\n",
       "       [-5.10923767e+00, -7.32026529e+00],\n",
       "       [ 1.02864485e+01, -4.26938324e+01],\n",
       "       [-3.86281061e+00,  7.57539654e+00],\n",
       "       [ 6.75361729e+00, -6.07403831e+01],\n",
       "       [-2.13424492e+00, -6.27547979e+00],\n",
       "       [ 1.18132334e+01, -4.32232056e+01],\n",
       "       [ 1.09859152e+01, -5.20785561e+01],\n",
       "       [-1.74899864e+00, -5.15563059e+00],\n",
       "       [-1.34852123e+00, -2.16144204e+00],\n",
       "       [ 4.51994002e-01, -2.29606247e+01],\n",
       "       [ 1.14874172e+01, -5.28264465e+01],\n",
       "       [ 9.20626736e+00, -5.59671745e+01],\n",
       "       [ 9.24913526e-01, -5.65141716e+01],\n",
       "       [ 4.90456820e-01, -2.37165928e+01],\n",
       "       [-7.72000551e-01, -7.56218624e+00],\n",
       "       [ 2.03543878e+00, -1.40315781e+01],\n",
       "       [ 7.76116657e+00, -5.78187943e+01],\n",
       "       [ 1.32270603e+01, -2.93241138e+01],\n",
       "       [ 3.40749860e+00, -1.72050533e+01],\n",
       "       [-6.85594738e-01, -2.54214406e+00],\n",
       "       [ 3.69520164e+00, -3.59659996e+01],\n",
       "       [ 1.00634060e+01, -4.04312096e+01],\n",
       "       [ 3.95916605e+00, -3.29795189e+01],\n",
       "       [-3.62306857e+00,  5.24618769e+00],\n",
       "       [ 9.88502884e+00, -4.34053802e+01],\n",
       "       [ 9.24991894e+00, -4.05386581e+01],\n",
       "       [ 4.36802626e+00, -3.24433670e+01],\n",
       "       [-3.58438587e+00, -6.89572239e+00],\n",
       "       [ 8.34965038e+00, -2.23499241e+01],\n",
       "       [ 1.28022776e+01, -2.83346748e+01],\n",
       "       [-1.50287020e+00, -5.94379723e-01]], dtype=float32)"
      ]
     },
     "execution_count": 213,
     "metadata": {},
     "output_type": "execute_result"
    }
   ],
   "source": [
    "#D3 = pd.DataFrame(data =TSNE(n_components=2, learning_rate='auto',\n",
    "D3 = data =TSNE(n_components=2, learning_rate='auto',\n",
    "           init='random', perplexity=3).fit_transform(D1)\n",
    "D3"
   ]
  },
  {
   "cell_type": "code",
   "execution_count": 214,
   "metadata": {},
   "outputs": [],
   "source": [
    "from itertools import cycle, islice\n",
    "def visualize_clusters(cluster_datasets, cluster_results):\n",
    "    \"\"\"\n",
    "    Визуализация результатов кластерного анализа\n",
    "    \"\"\"\n",
    "    plt.subplots(figsize=(10,7))\n",
    "    plot_num = 0\n",
    "    for X, y_pred in zip(cluster_datasets, cluster_results):\n",
    "        plot_num += 1\n",
    "        plt.subplot(2, 3, plot_num)\n",
    "        # Цвета точек как результат кластеризации\n",
    "        colors = np.array(list(islice(cycle(['#377eb8', '#ff7f00', '#4daf4a',\n",
    "                                             '#f781bf', '#a65628', '#984ea3',\n",
    "                                             '#999999', '#e41a1c', '#dede00']),\n",
    "                                      int(max(y_pred) + 1))))\n",
    "        # черный цвет для выделяющихся значений\n",
    "        colors = np.append(colors, [\"#000000\"])\n",
    "        plt.scatter(X[:, 0], X[:, 1], s=3, color=colors[y_pred])\n",
    "        plt.xlim(-2.5, 2.5)\n",
    "        plt.ylim(-2.5, 2.5)\n",
    "        plt.xticks(())\n",
    "        plt.yticks(())\n",
    "       # plt.title(datasets_names[plot_num-1])\n",
    "    \n",
    "    plt.show()"
   ]
  },
  {
   "cell_type": "code",
   "execution_count": 215,
   "metadata": {},
   "outputs": [],
   "source": [
    "def make_meshgrid(x, y, h=.02):\n",
    "    \"\"\"Create a mesh of points to plot in\n",
    "\n",
    "    Parameters\n",
    "    ----------\n",
    "    x: data to base x-axis meshgrid on\n",
    "    y: data to base y-axis meshgrid on\n",
    "    h: stepsize for meshgrid, optional\n",
    "\n",
    "    Returns\n",
    "    -------\n",
    "    xx, yy : ndarray\n",
    "    \"\"\"\n",
    "    x_min, x_max = x.min() - 1, x.max() + 1\n",
    "    y_min, y_max = y.min() - 1, y.max() + 1\n",
    "    xx, yy = np.meshgrid(np.arange(x_min, x_max, h),\n",
    "                         np.arange(y_min, y_max, h))\n",
    "    return xx, yy\n",
    "\n",
    "def run_plot(D):\n",
    "    fig, ax = plt.subplots(figsize=(5,5))\n",
    "    X0, X1 = D[:, 0], D[:, 1]\n",
    "    xx, yy = make_meshgrid(X0, X1)\n",
    "    ax.scatter(X0, X1, cmap=plt.cm.coolwarm, s=20, edgecolors='k')\n",
    "    ax.set_xlim(xx.min(), xx.max())\n",
    "    ax.set_ylim(yy.min(), yy.max())\n",
    "    ax.set_xticks(())\n",
    "    ax.set_yticks(())\n",
    "    plt.show()\n"
   ]
  },
  {
   "cell_type": "code",
   "execution_count": 216,
   "metadata": {},
   "outputs": [
    {
     "data": {
      "text/html": [
       "<div>\n",
       "<style scoped>\n",
       "    .dataframe tbody tr th:only-of-type {\n",
       "        vertical-align: middle;\n",
       "    }\n",
       "\n",
       "    .dataframe tbody tr th {\n",
       "        vertical-align: top;\n",
       "    }\n",
       "\n",
       "    .dataframe thead th {\n",
       "        text-align: right;\n",
       "    }\n",
       "</style>\n",
       "<table border=\"1\" class=\"dataframe\">\n",
       "  <thead>\n",
       "    <tr style=\"text-align: right;\">\n",
       "      <th></th>\n",
       "      <th>0</th>\n",
       "      <th>1</th>\n",
       "    </tr>\n",
       "  </thead>\n",
       "  <tbody>\n",
       "    <tr>\n",
       "      <th>0</th>\n",
       "      <td>-2.865415</td>\n",
       "      <td>0.296295</td>\n",
       "    </tr>\n",
       "    <tr>\n",
       "      <th>1</th>\n",
       "      <td>-2.892047</td>\n",
       "      <td>-0.183785</td>\n",
       "    </tr>\n",
       "    <tr>\n",
       "      <th>2</th>\n",
       "      <td>-3.054980</td>\n",
       "      <td>-0.174827</td>\n",
       "    </tr>\n",
       "    <tr>\n",
       "      <th>3</th>\n",
       "      <td>-2.920230</td>\n",
       "      <td>-0.331582</td>\n",
       "    </tr>\n",
       "    <tr>\n",
       "      <th>4</th>\n",
       "      <td>-2.906852</td>\n",
       "      <td>0.295917</td>\n",
       "    </tr>\n",
       "    <tr>\n",
       "      <th>...</th>\n",
       "      <td>...</td>\n",
       "      <td>...</td>\n",
       "    </tr>\n",
       "    <tr>\n",
       "      <th>145</th>\n",
       "      <td>2.173075</td>\n",
       "      <td>0.127588</td>\n",
       "    </tr>\n",
       "    <tr>\n",
       "      <th>146</th>\n",
       "      <td>1.784888</td>\n",
       "      <td>-0.443191</td>\n",
       "    </tr>\n",
       "    <tr>\n",
       "      <th>147</th>\n",
       "      <td>2.005296</td>\n",
       "      <td>0.010566</td>\n",
       "    </tr>\n",
       "    <tr>\n",
       "      <th>148</th>\n",
       "      <td>2.134042</td>\n",
       "      <td>0.037797</td>\n",
       "    </tr>\n",
       "    <tr>\n",
       "      <th>149</th>\n",
       "      <td>1.657506</td>\n",
       "      <td>-0.379046</td>\n",
       "    </tr>\n",
       "  </tbody>\n",
       "</table>\n",
       "<p>150 rows × 2 columns</p>\n",
       "</div>"
      ],
      "text/plain": [
       "            0         1\n",
       "0   -2.865415  0.296295\n",
       "1   -2.892047 -0.183785\n",
       "2   -3.054980 -0.174827\n",
       "3   -2.920230 -0.331582\n",
       "4   -2.906852  0.295917\n",
       "..        ...       ...\n",
       "145  2.173075  0.127588\n",
       "146  1.784888 -0.443191\n",
       "147  2.005296  0.010566\n",
       "148  2.134042  0.037797\n",
       "149  1.657506 -0.379046\n",
       "\n",
       "[150 rows x 2 columns]"
      ]
     },
     "execution_count": 216,
     "metadata": {},
     "output_type": "execute_result"
    }
   ],
   "source": [
    "df = pd.DataFrame(D2)\n",
    "df"
   ]
  },
  {
   "cell_type": "code",
   "execution_count": 217,
   "metadata": {},
   "outputs": [
    {
     "data": {
      "text/plain": [
       "<seaborn.axisgrid.JointGrid at 0x203bd5f3850>"
      ]
     },
     "execution_count": 217,
     "metadata": {},
     "output_type": "execute_result"
    },
    {
     "data": {
      "image/png": "[encoded data removed]",
      "text/plain": [
       "<Figure size 600x600 with 3 Axes>"
      ]
     },
     "metadata": {},
     "output_type": "display_data"
    }
   ],
   "source": [
    "sns.jointplot(x=df[0], y=df[1], data=df)"
   ]
  },
  {
   "cell_type": "code",
   "execution_count": 218,
   "metadata": {},
   "outputs": [
    {
     "data": {
      "image/png": "[encoded data removed]",
      "text/plain": [
       "<Figure size 500x500 with 1 Axes>"
      ]
     },
     "metadata": {},
     "output_type": "display_data"
    }
   ],
   "source": [
    "run_plot(D2)"
   ]
  },
  {
   "cell_type": "code",
   "execution_count": 219,
   "metadata": {},
   "outputs": [
    {
     "data": {
      "image/png": "[encoded data removed]",
      "text/plain": [
       "<Figure size 500x500 with 1 Axes>"
      ]
     },
     "metadata": {},
     "output_type": "display_data"
    }
   ],
   "source": [
    "run_plot(D3)"
   ]
  },
  {
   "cell_type": "code",
   "execution_count": 220,
   "metadata": {},
   "outputs": [],
   "source": [
    "from sklearn.cluster import KMeans, MiniBatchKMeans"
   ]
  },
  {
   "cell_type": "code",
   "execution_count": 221,
   "metadata": {},
   "outputs": [],
   "source": [
    "def do_clustering(cluster_dataset, method):\n",
    "    \"\"\"\n",
    "    Выполнение кластеризации для данных примера\n",
    "    \"\"\"\n",
    "    cluster_results = []\n",
    "    temp_cluster = method.fit_predict(cluster_dataset)\n",
    "    cluster_results.append(temp_cluster)\n",
    "    return cluster_results\n"
   ]
  },
  {
   "cell_type": "code",
   "execution_count": 222,
   "metadata": {},
   "outputs": [],
   "source": [
    "D2 = pd.DataFrame(data = D2)"
   ]
  },
  {
   "cell_type": "code",
   "execution_count": 223,
   "metadata": {},
   "outputs": [
    {
     "name": "stdout",
     "output_type": "stream",
     "text": [
      "Wall time: 40 ms\n"
     ]
    },
    {
     "data": {
      "text/plain": [
       "<seaborn.axisgrid.JointGrid at 0x203be9462b0>"
      ]
     },
     "execution_count": 223,
     "metadata": {},
     "output_type": "execute_result"
    },
    {
     "data": {
      "image/png": "[encoded data removed]",
      "text/plain": [
       "<Figure size 600x600 with 3 Axes>"
      ]
     },
     "metadata": {},
     "output_type": "display_data"
    }
   ],
   "source": [
    "%time result_KMeans_3 = do_clustering(D1, KMeans(n_clusters=3))\n",
    "sns.jointplot(x=D2[0], y=np.array(result_KMeans_3)[0], data=df)"
   ]
  },
  {
   "cell_type": "code",
   "execution_count": 224,
   "metadata": {},
   "outputs": [
    {
     "name": "stdout",
     "output_type": "stream",
     "text": [
      "Wall time: 44.6 ms\n"
     ]
    },
    {
     "data": {
      "text/plain": [
       "<seaborn.axisgrid.JointGrid at 0x203bebcb3d0>"
      ]
     },
     "execution_count": 224,
     "metadata": {},
     "output_type": "execute_result"
    },
    {
     "data": {
      "image/png": "[encoded data removed]",
      "text/plain": [
       "<Figure size 600x600 with 3 Axes>"
      ]
     },
     "metadata": {},
     "output_type": "display_data"
    }
   ],
   "source": [
    "%time result_KMeans_5 = do_clustering(D2, KMeans(n_clusters=3))\n",
    "sns.jointplot(x=D2[0], y=np.array(result_KMeans_5)[0], data=df)"
   ]
  },
  {
   "cell_type": "code",
   "execution_count": 225,
   "metadata": {},
   "outputs": [
    {
     "name": "stdout",
     "output_type": "stream",
     "text": [
      "Wall time: 44.2 ms\n"
     ]
    },
    {
     "data": {
      "text/plain": [
       "<seaborn.axisgrid.JointGrid at 0x203bf005f10>"
      ]
     },
     "execution_count": 225,
     "metadata": {},
     "output_type": "execute_result"
    },
    {
     "data": {
      "image/png": "[encoded data removed]",
      "text/plain": [
       "<Figure size 600x600 with 3 Axes>"
      ]
     },
     "metadata": {},
     "output_type": "display_data"
    }
   ],
   "source": [
    "%time result_KMeans_5 = do_clustering(D3, KMeans(n_clusters=3))\n",
    "sns.jointplot(x=D2[0], y=np.array(result_KMeans_5)[0], data=df)"
   ]
  },
  {
   "cell_type": "code",
   "execution_count": 226,
   "metadata": {},
   "outputs": [
    {
     "name": "stderr",
     "output_type": "stream",
     "text": [
      "d:\\Anaconda\\lib\\site-packages\\sklearn\\cluster\\_kmeans.py:1036: UserWarning: KMeans is known to have a memory leak on Windows with MKL, when there are less chunks than available threads. You can avoid it by setting the environment variable OMP_NUM_THREADS=1.\n",
      "  warnings.warn(\n"
     ]
    },
    {
     "data": {
      "image/png": "[encoded data removed]",
      "text/plain": [
       "<Figure size 640x480 with 1 Axes>"
      ]
     },
     "metadata": {},
     "output_type": "display_data"
    }
   ],
   "source": [
    "inertia = []\n",
    "TEMP_X = D1\n",
    "for k in range(1, 8):\n",
    "    kmeans = KMeans(n_clusters=k, random_state=1).fit(TEMP_X)\n",
    "    inertia.append(np.sqrt(kmeans.inertia_))\n",
    "plt.plot(range(1, 8), inertia, marker='s');\n",
    "plt.xlabel('$k$')\n",
    "plt.ylabel('$J(C_k)$');"
   ]
  },
  {
   "cell_type": "code",
   "execution_count": 227,
   "metadata": {},
   "outputs": [
    {
     "name": "stderr",
     "output_type": "stream",
     "text": [
      "d:\\Anaconda\\lib\\site-packages\\sklearn\\cluster\\_kmeans.py:1036: UserWarning: KMeans is known to have a memory leak on Windows with MKL, when there are less chunks than available threads. You can avoid it by setting the environment variable OMP_NUM_THREADS=1.\n",
      "  warnings.warn(\n"
     ]
    },
    {
     "data": {
      "image/png": "[encoded data removed]",
      "text/plain": [
       "<Figure size 640x480 with 1 Axes>"
      ]
     },
     "metadata": {},
     "output_type": "display_data"
    }
   ],
   "source": [
    "inertia = []\n",
    "TEMP_X = D2\n",
    "for k in range(1, 8):\n",
    "    kmeans = KMeans(n_clusters=k, random_state=1).fit(TEMP_X)\n",
    "    inertia.append(np.sqrt(kmeans.inertia_))\n",
    "plt.plot(range(1, 8), inertia, marker='s');\n",
    "plt.xlabel('$k$')\n",
    "plt.ylabel('$J(C_k)$');"
   ]
  },
  {
   "cell_type": "code",
   "execution_count": 228,
   "metadata": {},
   "outputs": [
    {
     "name": "stderr",
     "output_type": "stream",
     "text": [
      "d:\\Anaconda\\lib\\site-packages\\sklearn\\cluster\\_kmeans.py:1036: UserWarning: KMeans is known to have a memory leak on Windows with MKL, when there are less chunks than available threads. You can avoid it by setting the environment variable OMP_NUM_THREADS=1.\n",
      "  warnings.warn(\n"
     ]
    },
    {
     "data": {
      "image/png": "[encoded data removed]",
      "text/plain": [
       "<Figure size 640x480 with 1 Axes>"
      ]
     },
     "metadata": {},
     "output_type": "display_data"
    }
   ],
   "source": [
    "inertia = []\n",
    "TEMP_X = D3\n",
    "for k in range(1, 8):\n",
    "    kmeans = KMeans(n_clusters=k, random_state=1).fit(TEMP_X)\n",
    "    inertia.append(np.sqrt(kmeans.inertia_))\n",
    "plt.plot(range(1, 8), inertia, marker='s');\n",
    "plt.xlabel('$k$')\n",
    "plt.ylabel('$J(C_k)$');"
   ]
  },
  {
   "attachments": {},
   "cell_type": "markdown",
   "metadata": {},
   "source": [
    "Коэффициент силуэта\n",
    "Для вычисления метрики используется функция silhouette_score\n",
    "\n",
    "Данный метод не требует знания истинных значений меток кластеров."
   ]
  },
  {
   "cell_type": "code",
   "execution_count": 231,
   "metadata": {},
   "outputs": [],
   "source": [
    "from sklearn.metrics import silhouette_score\n",
    "def claster_metrics(method, cluster_datasets):\n",
    "    \"\"\"\n",
    "    Вычисление метрик кластеризации\n",
    "    \"\"\"\n",
    "   \n",
    "    sl = []\n",
    "    \n",
    "    for X in cluster_datasets:\n",
    "        temp_cluster = method.fit_predict(X)\n",
    "        try:\n",
    "            sscore = silhouette_score(X, temp_cluster)\n",
    "        except:\n",
    "            sscore = None\n",
    "            \n",
    "        sl.append(sscore)\n",
    "    \n",
    "    result = pd.DataFrame({'Silhouette':sl})\n",
    "    return result"
   ]
  },
  {
   "cell_type": "code",
   "execution_count": 232,
   "metadata": {},
   "outputs": [
    {
     "data": {
      "text/html": [
       "<div>\n",
       "<style scoped>\n",
       "    .dataframe tbody tr th:only-of-type {\n",
       "        vertical-align: middle;\n",
       "    }\n",
       "\n",
       "    .dataframe tbody tr th {\n",
       "        vertical-align: top;\n",
       "    }\n",
       "\n",
       "    .dataframe thead th {\n",
       "        text-align: right;\n",
       "    }\n",
       "</style>\n",
       "<table border=\"1\" class=\"dataframe\">\n",
       "  <thead>\n",
       "    <tr style=\"text-align: right;\">\n",
       "      <th></th>\n",
       "      <th>Silhouette</th>\n",
       "    </tr>\n",
       "  </thead>\n",
       "  <tbody>\n",
       "    <tr>\n",
       "      <th>0</th>\n",
       "      <td>0.581897</td>\n",
       "    </tr>\n",
       "    <tr>\n",
       "      <th>1</th>\n",
       "      <td>0.608727</td>\n",
       "    </tr>\n",
       "    <tr>\n",
       "      <th>2</th>\n",
       "      <td>0.547409</td>\n",
       "    </tr>\n",
       "  </tbody>\n",
       "</table>\n",
       "</div>"
      ],
      "text/plain": [
       "   Silhouette\n",
       "0    0.581897\n",
       "1    0.608727\n",
       "2    0.547409"
      ]
     },
     "execution_count": 232,
     "metadata": {},
     "output_type": "execute_result"
    }
   ],
   "source": [
    "claster_metrics(KMeans(n_clusters=3), [D1, D2, D3])"
   ]
  },
  {
   "cell_type": "code",
   "execution_count": 238,
   "metadata": {},
   "outputs": [
    {
     "name": "stdout",
     "output_type": "stream",
     "text": [
      "Wall time: 8 ms\n"
     ]
    },
    {
     "data": {
      "text/html": [
       "<div>\n",
       "<style scoped>\n",
       "    .dataframe tbody tr th:only-of-type {\n",
       "        vertical-align: middle;\n",
       "    }\n",
       "\n",
       "    .dataframe tbody tr th {\n",
       "        vertical-align: top;\n",
       "    }\n",
       "\n",
       "    .dataframe thead th {\n",
       "        text-align: right;\n",
       "    }\n",
       "</style>\n",
       "<table border=\"1\" class=\"dataframe\">\n",
       "  <thead>\n",
       "    <tr style=\"text-align: right;\">\n",
       "      <th></th>\n",
       "      <th>Silhouette</th>\n",
       "    </tr>\n",
       "  </thead>\n",
       "  <tbody>\n",
       "    <tr>\n",
       "      <th>0</th>\n",
       "      <td>-0.045802</td>\n",
       "    </tr>\n",
       "    <tr>\n",
       "      <th>1</th>\n",
       "      <td>0.408502</td>\n",
       "    </tr>\n",
       "    <tr>\n",
       "      <th>2</th>\n",
       "      <td>NaN</td>\n",
       "    </tr>\n",
       "  </tbody>\n",
       "</table>\n",
       "</div>"
      ],
      "text/plain": [
       "   Silhouette\n",
       "0   -0.045802\n",
       "1    0.408502\n",
       "2         NaN"
      ]
     },
     "execution_count": 238,
     "metadata": {},
     "output_type": "execute_result"
    }
   ],
   "source": [
    "from sklearn.cluster import DBSCAN\n",
    "%time result_DBSCAN = do_clustering(D1, DBSCAN(eps=0.25))\n",
    "claster_metrics(DBSCAN(eps=0.25), [D1, D2, D3])\n"
   ]
  },
  {
   "cell_type": "code",
   "execution_count": 242,
   "metadata": {},
   "outputs": [
    {
     "name": "stdout",
     "output_type": "stream",
     "text": [
      "Wall time: 11 ms\n"
     ]
    },
    {
     "data": {
      "text/html": [
       "<div>\n",
       "<style scoped>\n",
       "    .dataframe tbody tr th:only-of-type {\n",
       "        vertical-align: middle;\n",
       "    }\n",
       "\n",
       "    .dataframe tbody tr th {\n",
       "        vertical-align: top;\n",
       "    }\n",
       "\n",
       "    .dataframe thead th {\n",
       "        text-align: right;\n",
       "    }\n",
       "</style>\n",
       "<table border=\"1\" class=\"dataframe\">\n",
       "  <thead>\n",
       "    <tr style=\"text-align: right;\">\n",
       "      <th></th>\n",
       "      <th>Silhouette</th>\n",
       "    </tr>\n",
       "  </thead>\n",
       "  <tbody>\n",
       "    <tr>\n",
       "      <th>0</th>\n",
       "      <td>0.511152</td>\n",
       "    </tr>\n",
       "    <tr>\n",
       "      <th>1</th>\n",
       "      <td>0.608227</td>\n",
       "    </tr>\n",
       "    <tr>\n",
       "      <th>2</th>\n",
       "      <td>0.541456</td>\n",
       "    </tr>\n",
       "  </tbody>\n",
       "</table>\n",
       "</div>"
      ],
      "text/plain": [
       "   Silhouette\n",
       "0    0.511152\n",
       "1    0.608227\n",
       "2    0.541456"
      ]
     },
     "execution_count": 242,
     "metadata": {},
     "output_type": "execute_result"
    }
   ],
   "source": [
    "from sklearn.cluster import Birch\n",
    "%time result_Birch = do_clustering(D1, Birch())\n",
    "claster_metrics(Birch(), [D1, D2, D3])"
   ]
  },
  {
   "cell_type": "code",
   "execution_count": 243,
   "metadata": {},
   "outputs": [
    {
     "name": "stdout",
     "output_type": "stream",
     "text": [
      "Wall time: 20 ms\n"
     ]
    },
    {
     "data": {
      "text/html": [
       "<div>\n",
       "<style scoped>\n",
       "    .dataframe tbody tr th:only-of-type {\n",
       "        vertical-align: middle;\n",
       "    }\n",
       "\n",
       "    .dataframe tbody tr th {\n",
       "        vertical-align: top;\n",
       "    }\n",
       "\n",
       "    .dataframe thead th {\n",
       "        text-align: right;\n",
       "    }\n",
       "</style>\n",
       "<table border=\"1\" class=\"dataframe\">\n",
       "  <thead>\n",
       "    <tr style=\"text-align: right;\">\n",
       "      <th></th>\n",
       "      <th>Silhouette</th>\n",
       "    </tr>\n",
       "  </thead>\n",
       "  <tbody>\n",
       "    <tr>\n",
       "      <th>0</th>\n",
       "      <td>0.578216</td>\n",
       "    </tr>\n",
       "    <tr>\n",
       "      <th>1</th>\n",
       "      <td>0.598348</td>\n",
       "    </tr>\n",
       "    <tr>\n",
       "      <th>2</th>\n",
       "      <td>0.545824</td>\n",
       "    </tr>\n",
       "  </tbody>\n",
       "</table>\n",
       "</div>"
      ],
      "text/plain": [
       "   Silhouette\n",
       "0    0.578216\n",
       "1    0.598348\n",
       "2    0.545824"
      ]
     },
     "execution_count": 243,
     "metadata": {},
     "output_type": "execute_result"
    }
   ],
   "source": [
    "from sklearn.mixture import GaussianMixture\n",
    "%time result_GaussianMixture = do_clustering(D1, GaussianMixture(n_components=3))\n",
    "claster_metrics(GaussianMixture(n_components=3), [D1, D2, D3])"
   ]
  }
 ],
 "metadata": {
  "kernelspec": {
   "display_name": "base",
   "language": "python",
   "name": "python3"
  },
  "language_info": {
   "codemirror_mode": {
    "name": "ipython",
    "version": 3
   },
   "file_extension": ".py",
   "mimetype": "text/x-python",
   "name": "python",
   "nbconvert_exporter": "python",
   "pygments_lexer": "ipython3",
   "version": "3.9.13"
  },
  "orig_nbformat": 4
 },
 "nbformat": 4,
 "nbformat_minor": 2
}
